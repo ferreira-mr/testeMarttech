{
 "cells": [
  {
   "cell_type": "code",
   "execution_count": 5,
   "metadata": {},
   "outputs": [
    {
     "name": "stdout",
     "output_type": "stream",
     "text": [
      "ae5fff10-ff59-4b85-8f65-3598104f26b7\n",
      "f6a62647-7de3-4f6d-ab62-a35eacfb5b77\n",
      "29baba73-9761-4f38-b0e1-5a874835e414\n",
      "1f9232a4-395f-488a-bb4e-d424d5bba85c\n",
      "<class 'uuid.UUID'>\n"
     ]
    }
   ],
   "source": [
    "import uuid\r\n",
    "\r\n",
    "print(uuid.uuid4())\r\n",
    "print(uuid.uuid4())\r\n",
    "print(uuid.uuid4())\r\n",
    "print(uuid.uuid4())\r\n",
    "print(type(uuid.uuid4()))"
   ]
  },
  {
   "cell_type": "code",
   "execution_count": 6,
   "metadata": {},
   "outputs": [],
   "source": [
    "from pydantic import BaseModel\r\n",
    "from typing import Text\r\n",
    "from datetime import datetime\r\n",
    "from uuid import uuid4\r\n",
    "\r\n",
    "class Nota(BaseModel):\r\n",
    "    \"\"\"\r\n",
    "    Cria uma nova nota\r\n",
    "    \"\"\"\r\n",
    "    id = uuid4()\r\n",
    "    datetime_criação = datetime.now()\r\n",
    "    datetime_modificação  = datetime.now()\r\n",
    "    anotação: Text = None"
   ]
  },
  {
   "cell_type": "code",
   "execution_count": 7,
   "metadata": {},
   "outputs": [],
   "source": [
    "nota1 = Nota()"
   ]
  },
  {
   "cell_type": "code",
   "execution_count": 8,
   "metadata": {},
   "outputs": [
    {
     "data": {
      "text/plain": [
       "Nota(anotação=None, id=UUID('ffe613a4-972c-41ef-80f5-0bfbc9a9f6f0'), datetime_criação=datetime.datetime(2021, 6, 8, 15, 18, 8, 395704), datetime_modificação=datetime.datetime(2021, 6, 8, 15, 18, 8, 395704))"
      ]
     },
     "execution_count": 8,
     "metadata": {},
     "output_type": "execute_result"
    }
   ],
   "source": [
    "nota1"
   ]
  },
  {
   "cell_type": "code",
   "execution_count": 10,
   "metadata": {},
   "outputs": [
    {
     "data": {
      "text/plain": [
       "Nota(anotação=None, id=UUID('ffe613a4-972c-41ef-80f5-0bfbc9a9f6f0'), datetime_criação=datetime.datetime(2021, 6, 8, 15, 18, 8, 395704), datetime_modificação=datetime.datetime(2021, 6, 8, 15, 18, 8, 395704))"
      ]
     },
     "execution_count": 10,
     "metadata": {},
     "output_type": "execute_result"
    }
   ],
   "source": [
    "nota2 = Nota()\r\n",
    "nota2"
   ]
  },
  {
   "cell_type": "code",
   "execution_count": 11,
   "metadata": {},
   "outputs": [
    {
     "data": {
      "text/plain": [
       "True"
      ]
     },
     "execution_count": 11,
     "metadata": {},
     "output_type": "execute_result"
    }
   ],
   "source": [
    "\r\n",
    "nota1 == nota2"
   ]
  },
  {
   "cell_type": "code",
   "execution_count": null,
   "metadata": {},
   "outputs": [],
   "source": []
  }
 ],
 "metadata": {
  "interpreter": {
   "hash": "ed225720166559e7176d3793db16a2fd8d295f725007103b21ac3099d2a89ee8"
  },
  "kernelspec": {
   "display_name": "Python 3.8.8 64-bit ('base': conda)",
   "name": "python3"
  },
  "language_info": {
   "codemirror_mode": {
    "name": "ipython",
    "version": 3
   },
   "file_extension": ".py",
   "mimetype": "text/x-python",
   "name": "python",
   "nbconvert_exporter": "python",
   "pygments_lexer": "ipython3",
   "version": "3.8.8"
  },
  "orig_nbformat": 4
 },
 "nbformat": 4,
 "nbformat_minor": 2
}